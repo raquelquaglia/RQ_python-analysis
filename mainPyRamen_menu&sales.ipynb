{
 "cells": [
  {
   "cell_type": "markdown",
   "metadata": {},
   "source": [
    "**Project I: PyRamen**"
   ]
  },
  {
   "cell_type": "markdown",
   "metadata": {},
   "source": [
    " @TODO: Import libraries"
   ]
  },
  {
   "cell_type": "code",
   "execution_count": 16,
   "metadata": {},
   "outputs": [],
   "source": [
    "import csv\n",
    "from pathlib import Path"
   ]
  },
  {
   "cell_type": "markdown",
   "metadata": {},
   "source": [
    " @TODO: Set file paths for menu_data.csv and sales_data.csv"
   ]
  },
  {
   "cell_type": "code",
   "execution_count": 17,
   "metadata": {},
   "outputs": [
    {
     "data": {
      "text/plain": [
       "WindowsPath('Resources/menu_data.csv')"
      ]
     },
     "execution_count": 17,
     "metadata": {},
     "output_type": "execute_result"
    }
   ],
   "source": [
    "menu_filepath = Path('Resources/menu_data.csv')\n",
    "menu_filepath"
   ]
  },
  {
   "cell_type": "code",
   "execution_count": 18,
   "metadata": {},
   "outputs": [
    {
     "data": {
      "text/plain": [
       "WindowsPath('Resources/sales_data.csv')"
      ]
     },
     "execution_count": 18,
     "metadata": {},
     "output_type": "execute_result"
    }
   ],
   "source": [
    "sales_filepath = Path('Resources/sales_data.csv')\n",
    "sales_filepath"
   ]
  },
  {
   "cell_type": "markdown",
   "metadata": {},
   "source": [
    " @TODO: Initialize list objects to hold our menu and sales data"
   ]
  },
  {
   "cell_type": "code",
   "execution_count": 19,
   "metadata": {},
   "outputs": [],
   "source": [
    "menu = []\n",
    "items =[]\n",
    "prices = []\n",
    "costs = []\n",
    "\n",
    "total_items = 0\n",
    "line_num = 0\n",
    "row_count = 0\n",
    "\n",
    "sales = []\n",
    "\n",
    "quantity = []\n",
    "menu_item = []\n",
    "sales_item =()\n",
    "\n",
    "#=============================================\n",
    "Quantity = 0\n",
    "revenue = 0\n",
    "cogs = 0\n",
    "profit = 0\n",
    "report = {}\n"
   ]
  },
  {
   "cell_type": "markdown",
   "metadata": {},
   "source": [
    " @TODO: Read in the menu data into the menu list"
   ]
  },
  {
   "cell_type": "code",
   "execution_count": 20,
   "metadata": {},
   "outputs": [
    {
     "ename": "ValueError",
     "evalue": "I/O operation on closed file.",
     "output_type": "error",
     "traceback": [
      "\u001b[1;31m---------------------------------------------------------------------------\u001b[0m",
      "\u001b[1;31mValueError\u001b[0m                                Traceback (most recent call last)",
      "\u001b[1;32m<ipython-input-20-14af2db33c59>\u001b[0m in \u001b[0;36m<module>\u001b[1;34m\u001b[0m\n\u001b[0;32m     48\u001b[0m             \u001b[1;31m#report[sales_item][\"01-count\"] += Quantity\u001b[0m\u001b[1;33m\u001b[0m\u001b[1;33m\u001b[0m\u001b[1;33m\u001b[0m\u001b[0m\n\u001b[0;32m     49\u001b[0m \u001b[1;33m\u001b[0m\u001b[0m\n\u001b[1;32m---> 50\u001b[1;33m \u001b[1;32mfor\u001b[0m \u001b[0mrow\u001b[0m \u001b[1;32min\u001b[0m \u001b[0mmenu\u001b[0m\u001b[1;33m:\u001b[0m\u001b[1;33m\u001b[0m\u001b[1;33m\u001b[0m\u001b[0m\n\u001b[0m\u001b[0;32m     51\u001b[0m    \u001b[1;31m# print(row)\u001b[0m\u001b[1;33m\u001b[0m\u001b[1;33m\u001b[0m\u001b[1;33m\u001b[0m\u001b[0m\n\u001b[0;32m     52\u001b[0m \u001b[1;33m\u001b[0m\u001b[0m\n",
      "\u001b[1;31mValueError\u001b[0m: I/O operation on closed file."
     ]
    }
   ],
   "source": [
    "with open(menu_filepath, 'r') as menu:\n",
    "    # print(type(menu))\n",
    "\n",
    "    menu_reader = csv.reader(menu, delimiter=',')\n",
    "    # print(type(menu_reader))\n",
    "\n",
    "    header = next(menu_reader)\n",
    "    line_num += 1\n",
    "    # Print the header\n",
    "    # print(f\"{header} <---- HEADER\")\n",
    "\n",
    "    # Read each row of data after the header\n",
    "    for row in menu_reader:\n",
    "       \n",
    "        #print(row)\n",
    "       \n",
    "        Item = (row[0])\n",
    "        items.append(Item)\n",
    "                    \n",
    "        Price = float(row[3])\n",
    "        prices.append(Price)\n",
    "        \n",
    "        Cost = float(row[4])\n",
    "        costs.append(Cost)\n",
    " \n",
    "        #print(report)\n",
    "with open(sales_filepath, 'r') as sales:\n",
    "    # print(type(sales))\n",
    "\n",
    "    sales_reader = csv.reader(sales, delimiter=',')\n",
    "    # print(type(sales_reader))\n",
    "\n",
    "    header = next(sales_reader)\n",
    "    \n",
    "    for sale in sales:\n",
    "        # print(row)\n",
    "        Quantity = int(row[3])\n",
    "        sales_item = (row[4])\n",
    "\n",
    "        if sales_item not in report.keys():\n",
    "             report[sales_item] = {\n",
    "                \"01-count\": 0,\n",
    "                \"02-revenue\": 0,\n",
    "                \"03-cogs\": 0,\n",
    "                \"04-profit\": 0 }\n",
    "        \n",
    "        #else:\n",
    "            #report[sales_item][\"01-count\"] += Quantity\n",
    "\n",
    "for row in menu:\n",
    "   # print(row)\n",
    "\n",
    "    Item = (row[0])\n",
    "    Price = float(row[3])\n",
    "    Cost = float(row[4])\n",
    "\n",
    "\n",
    "    if sales_item == Item:\n",
    "        report[sales_item][\"01-count\"] += Quantity\n",
    "        report[sales_item][\"02-revenue\"] += Price * Quantity\n",
    "        report[sales_item][\"03-cogs\"] += Cost * Quantity\n",
    "        report[sales_item][\"04-profit\"] += profit * Quantity\n",
    "    else:\n",
    "        print(f\"{sales_item} does not equal {Item}! NO MATCH!\")\n",
    "    row_count += 1\n",
    "print(report)"
   ]
  },
  {
   "cell_type": "code",
   "execution_count": null,
   "metadata": {},
   "outputs": [],
   "source": []
  },
  {
   "cell_type": "code",
   "execution_count": null,
   "metadata": {},
   "outputs": [],
   "source": []
  }
 ],
 "metadata": {
  "kernelspec": {
   "display_name": "Python 3",
   "language": "python",
   "name": "python3"
  },
  "language_info": {
   "codemirror_mode": {
    "name": "ipython",
    "version": 3
   },
   "file_extension": ".py",
   "mimetype": "text/x-python",
   "name": "python",
   "nbconvert_exporter": "python",
   "pygments_lexer": "ipython3",
   "version": "3.7.9"
  }
 },
 "nbformat": 4,
 "nbformat_minor": 4
}
